{
 "cells": [
  {
   "cell_type": "code",
   "execution_count": null,
   "metadata": {},
   "outputs": [],
   "source": []
  },
  {
   "cell_type": "code",
   "execution_count": 1,
   "metadata": {},
   "outputs": [
    {
     "name": "stdout",
     "output_type": "stream",
     "text": [
      "········\n",
      "Created tunnels\n"
     ]
    },
    {
     "data": {
      "text/plain": [
       "True"
      ]
     },
     "execution_count": 1,
     "metadata": {},
     "output_type": "execute_result"
    }
   ],
   "source": [
    "from sshtunnel import SSHTunnelForwarder\n",
    "import sshtunnel\n",
    "import getpass\n",
    "import webbrowser\n",
    "\n",
    "\n",
    "#if __name__ == \"__main__\":\n",
    "\n",
    "REMOTE_SERVER_IP = \"104.47.157.14\"\n",
    "PRIVATE_SERVER_IP = \"localhost\"\n",
    "\n",
    "ssh_password = getpass.getpass()\n",
    "\n",
    "# sshtunnel.SSH_TIMEOUT = 60 * 60 * 2  # keep the connection open 2 hours\n",
    "\n",
    "prefect_frontend = SSHTunnelForwarder(\n",
    "    (REMOTE_SERVER_IP, 22),\n",
    "    ssh_username=\"madinsights\",\n",
    "    ssh_password=ssh_password,\n",
    "    remote_bind_address=(PRIVATE_SERVER_IP, 8080),\n",
    "    local_bind_address=('localhost', 8080)\n",
    ")\n",
    "\n",
    "prefect_graphql = SSHTunnelForwarder(\n",
    "    (REMOTE_SERVER_IP, 22),\n",
    "    ssh_username=\"madinsights\",\n",
    "    ssh_password=ssh_password,\n",
    "    remote_bind_address=(PRIVATE_SERVER_IP, 4200),\n",
    "    local_bind_address=('localhost', 4200)\n",
    ")\n",
    "\n",
    "prefect_frontend.start()\n",
    "prefect_graphql.start()\n",
    "\n",
    "print(\"Created tunnels\")\n",
    "\n",
    "webbrowser.open(\"http://localhost:8080\")\n"
   ]
  },
  {
   "cell_type": "code",
   "execution_count": null,
   "metadata": {},
   "outputs": [],
   "source": []
  },
  {
   "cell_type": "code",
   "execution_count": 1,
   "metadata": {},
   "outputs": [],
   "source": [
    "import sys"
   ]
  },
  {
   "cell_type": "code",
   "execution_count": 2,
   "metadata": {},
   "outputs": [],
   "source": [
    "sys.path.append (\"C:/Users/dfleetwood/Documents/prefect_deployment\")"
   ]
  },
  {
   "cell_type": "code",
   "execution_count": 3,
   "metadata": {},
   "outputs": [],
   "source": [
    "import prefect_deployment"
   ]
  },
  {
   "cell_type": "code",
   "execution_count": 4,
   "metadata": {},
   "outputs": [],
   "source": [
    "build_params = {'flow': './test_package.cpkl', 'git_repo': 'https://github.com/madanoResearch/test_package.git', 'requirements': ['pandas>=0.0'], 'container_project_home': '/home/test_package/', 'container_working_directory': '/home/test_package', 'synch_dvc': True, 'run': True, 'project': 'test_package', 'local_image': False, 'to_email_address': 'darrenfleetwood@gmail.com', 'parameters': None}"
   ]
  },
  {
   "cell_type": "code",
   "execution_count": null,
   "metadata": {},
   "outputs": [
    {
     "name": "stdout",
     "output_type": "stream",
     "text": [
      "/test_package.cpkl\n",
      "darrenfleetwood@gmail.com\n",
      "<function flow_email_state_handler at 0x0000022476CFFD08>\n",
      "\n",
      "[2020-04-26 07:44:15,840] INFO - prefect.Docker | Building the flow's Docker storage...\n"
     ]
    },
    {
     "name": "stderr",
     "output_type": "stream",
     "text": [
      "C:\\Users\\dfleetwood\\AppData\\Local\\conda\\conda\\envs\\prefect\\lib\\site-packages\\prefect\\environments\\storage\\docker.py:324: UserWarning: This Docker storage object has no `registry_url`, and will not be pushed.\n",
      "  UserWarning,\n"
     ]
    },
    {
     "name": "stdout",
     "output_type": "stream",
     "text": [
      "Step 1/9 : FROM darrenfleetwood/prefect-dvc-gcc-odbc-p3.6\n",
      " ---> 519b9591e1c7\n",
      "Step 2/9 : RUN pip install pip --upgrade\n",
      " ---> Running in c7586c491afd\n",
      "Requirement already up-to-date: pip in /usr/local/lib/python3.6/site-packages (20.0.2)\n",
      "Removing intermediate container c7586c491afd\n",
      " ---> dc201b803b78\n",
      "Step 3/9 : RUN pip show prefect || pip install git+https://github.com/PrefectHQ/prefect.git@0.10.2#egg=prefect[kubernetes]\n",
      " ---> Running in 250f8a73b4bf\n",
      "Name: prefect\n",
      "Version: 0.10.2\n",
      "Summary: The Prefect Core automation and scheduling engine.\n",
      "Home-page: https://www.github.com/PrefectHQ/prefect\n",
      "Author: Prefect Technologies, Inc.\n",
      "Author-email: help@prefect.io\n",
      "License: Apache License 2.0\n",
      "Location: /usr/local/lib/python3.6/site-packages\n",
      "Requires: cloudpickle, distributed, supervisor, typing, pytz, docker, urllib3, python-box, pendulum, click, pyyaml, typing-extensions, python-dateutil, mypy-extensions, croniter, toml, marshmallow, marshmallow-oneofschema, tabulate, requests, python-slugify, dask\n",
      "Required-by: \n",
      "Removing intermediate container 250f8a73b4bf\n",
      " ---> 100fae46f6cb\n",
      "Step 4/9 : RUN pip install pandas>=0.0 wheel\n",
      " ---> Running in 876493dbb933\n"
     ]
    }
   ],
   "source": [
    "prefect_deployment.deploy.build_prefect(**build_params)"
   ]
  },
  {
   "cell_type": "code",
   "execution_count": null,
   "metadata": {},
   "outputs": [],
   "source": []
  },
  {
   "cell_type": "code",
   "execution_count": null,
   "metadata": {},
   "outputs": [],
   "source": []
  },
  {
   "cell_type": "code",
   "execution_count": null,
   "metadata": {},
   "outputs": [],
   "source": [
    "from sshtunnel import SSHTunnelForwarder\n",
    "import getpass \n",
    "\n",
    "REMOTE_SERVER_IP = \"104.47.157.14\"\n",
    "PRIVATE_SERVER_IP = \"localhost\"\n",
    "\n",
    "ssh_password = getpass.getpass() \n",
    "\n",
    "sshtunnel.SSH_TIMEOUT = 60 * 60 * 8 #keep the connection open 8 hours\n",
    "\n",
    "prefect_frontend = SSHTunnelForwarder(\n",
    "    (REMOTE_SERVER_IP, 22),\n",
    "    ssh_username=\"madinsights\",\n",
    "    ssh_password = ssh_password,\n",
    "    remote_bind_address=(PRIVATE_SERVER_IP, 8080),\n",
    "    local_bind_address=('localhost', 8080)\n",
    ")\n",
    "\n",
    "prefect_graphql = SSHTunnelForwarder(\n",
    "    (REMOTE_SERVER_IP, 22),\n",
    "    ssh_username=\"madinsights\",\n",
    "    ssh_password = ssh_password,\n",
    "    remote_bind_address=(PRIVATE_SERVER_IP, 4200),\n",
    "    local_bind_address=('localhost', 4200)\n",
    ")\n",
    "\n",
    "prefect_frontend.start()\n",
    "prefect_graphql.start()"
   ]
  },
  {
   "cell_type": "code",
   "execution_count": 73,
   "metadata": {},
   "outputs": [
    {
     "name": "stderr",
     "output_type": "stream",
     "text": [
      "2020-04-25 14:13:49,505| ERROR   | Could not establish connection from ('127.0.0.1', 4200) to remote side of the tunnel\n",
      "2020-04-25 14:13:49,548| ERROR   | Could not establish connection from ('127.0.0.1', 4200) to remote side of the tunnel\n",
      "2020-04-25 14:13:49,574| ERROR   | Could not establish connection from ('127.0.0.1', 4200) to remote side of the tunnel\n",
      "2020-04-25 14:39:36,496| ERROR   | Could not establish connection from ('127.0.0.1', 4200) to remote side of the tunnel\n",
      "2020-04-25 14:39:36,502| ERROR   | Could not establish connection from ('127.0.0.1', 4200) to remote side of the tunnel\n",
      "2020-04-25 14:39:36,502| ERROR   | Could not establish connection from ('127.0.0.1', 4200) to remote side of the tunnel\n",
      "2020-04-25 14:39:36,502| ERROR   | Could not establish connection from ('127.0.0.1', 4200) to remote side of the tunnel\n",
      "2020-04-25 14:39:36,502| ERROR   | Could not establish connection from ('127.0.0.1', 4200) to remote side of the tunnel\n",
      "2020-04-26 08:27:42,738| ERROR   | Socket exception: An existing connection was forcibly closed by the remote host (10054)\n",
      "2020-04-26 08:27:42,752| ERROR   | Socket exception: An existing connection was forcibly closed by the remote host (10054)\n",
      "2020-04-26 08:27:42,754| ERROR   | Socket exception: An existing connection was forcibly closed by the remote host (10054)\n",
      "2020-04-26 08:27:42,815| ERROR   | Socket exception: An existing connection was forcibly closed by the remote host (10054)\n"
     ]
    }
   ],
   "source": []
  },
  {
   "cell_type": "code",
   "execution_count": null,
   "metadata": {},
   "outputs": [],
   "source": []
  },
  {
   "cell_type": "code",
   "execution_count": null,
   "metadata": {},
   "outputs": [],
   "source": []
  },
  {
   "cell_type": "code",
   "execution_count": null,
   "metadata": {},
   "outputs": [],
   "source": []
  },
  {
   "cell_type": "code",
   "execution_count": 43,
   "metadata": {},
   "outputs": [],
   "source": [
    "import paramiko"
   ]
  },
  {
   "cell_type": "code",
   "execution_count": 44,
   "metadata": {},
   "outputs": [],
   "source": [
    "ssh = paramiko.SSHClient()"
   ]
  },
  {
   "cell_type": "code",
   "execution_count": 46,
   "metadata": {},
   "outputs": [],
   "source": [
    "ssh.load_system_host_keys()"
   ]
  },
  {
   "cell_type": "code",
   "execution_count": null,
   "metadata": {},
   "outputs": [],
   "source": [
    "ssh."
   ]
  },
  {
   "cell_type": "code",
   "execution_count": 53,
   "metadata": {},
   "outputs": [
    {
     "ename": "AuthenticationException",
     "evalue": "Authentication failed.",
     "output_type": "error",
     "traceback": [
      "\u001b[1;31m---------------------------------------------------------------------------\u001b[0m",
      "\u001b[1;31mAuthenticationException\u001b[0m                   Traceback (most recent call last)",
      "\u001b[1;32m<ipython-input-53-c0963ad2a5d1>\u001b[0m in \u001b[0;36m<module>\u001b[1;34m\u001b[0m\n\u001b[1;32m----> 1\u001b[1;33m \u001b[0mssh\u001b[0m\u001b[1;33m.\u001b[0m\u001b[0mconnect\u001b[0m\u001b[1;33m(\u001b[0m\u001b[0mhostname\u001b[0m \u001b[1;33m=\u001b[0m \u001b[1;34m\"104.47.157.14\"\u001b[0m\u001b[1;33m,\u001b[0m \u001b[0musername\u001b[0m \u001b[1;33m=\u001b[0m \u001b[1;34m\"madinsights\"\u001b[0m\u001b[1;33m)\u001b[0m\u001b[1;33m\u001b[0m\u001b[1;33m\u001b[0m\u001b[0m\n\u001b[0m",
      "\u001b[1;32m~\\AppData\\Roaming\\Python\\Python36\\site-packages\\paramiko\\client.py\u001b[0m in \u001b[0;36mconnect\u001b[1;34m(self, hostname, port, username, password, pkey, key_filename, timeout, allow_agent, look_for_keys, compress, sock, gss_auth, gss_kex, gss_deleg_creds, gss_host, banner_timeout, auth_timeout, gss_trust_dns, passphrase, disabled_algorithms)\u001b[0m\n\u001b[0;32m    444\u001b[0m             \u001b[0mgss_deleg_creds\u001b[0m\u001b[1;33m,\u001b[0m\u001b[1;33m\u001b[0m\u001b[1;33m\u001b[0m\u001b[0m\n\u001b[0;32m    445\u001b[0m             \u001b[0mt\u001b[0m\u001b[1;33m.\u001b[0m\u001b[0mgss_host\u001b[0m\u001b[1;33m,\u001b[0m\u001b[1;33m\u001b[0m\u001b[1;33m\u001b[0m\u001b[0m\n\u001b[1;32m--> 446\u001b[1;33m             \u001b[0mpassphrase\u001b[0m\u001b[1;33m,\u001b[0m\u001b[1;33m\u001b[0m\u001b[1;33m\u001b[0m\u001b[0m\n\u001b[0m\u001b[0;32m    447\u001b[0m         )\n\u001b[0;32m    448\u001b[0m \u001b[1;33m\u001b[0m\u001b[0m\n",
      "\u001b[1;32m~\\AppData\\Roaming\\Python\\Python36\\site-packages\\paramiko\\client.py\u001b[0m in \u001b[0;36m_auth\u001b[1;34m(self, username, password, pkey, key_filenames, allow_agent, look_for_keys, gss_auth, gss_kex, gss_deleg_creds, gss_host, passphrase)\u001b[0m\n\u001b[0;32m    762\u001b[0m         \u001b[1;31m# if we got an auth-failed exception earlier, re-raise it\u001b[0m\u001b[1;33m\u001b[0m\u001b[1;33m\u001b[0m\u001b[1;33m\u001b[0m\u001b[0m\n\u001b[0;32m    763\u001b[0m         \u001b[1;32mif\u001b[0m \u001b[0msaved_exception\u001b[0m \u001b[1;32mis\u001b[0m \u001b[1;32mnot\u001b[0m \u001b[1;32mNone\u001b[0m\u001b[1;33m:\u001b[0m\u001b[1;33m\u001b[0m\u001b[1;33m\u001b[0m\u001b[0m\n\u001b[1;32m--> 764\u001b[1;33m             \u001b[1;32mraise\u001b[0m \u001b[0msaved_exception\u001b[0m\u001b[1;33m\u001b[0m\u001b[1;33m\u001b[0m\u001b[0m\n\u001b[0m\u001b[0;32m    765\u001b[0m         \u001b[1;32mraise\u001b[0m \u001b[0mSSHException\u001b[0m\u001b[1;33m(\u001b[0m\u001b[1;34m\"No authentication methods available\"\u001b[0m\u001b[1;33m)\u001b[0m\u001b[1;33m\u001b[0m\u001b[1;33m\u001b[0m\u001b[0m\n\u001b[0;32m    766\u001b[0m \u001b[1;33m\u001b[0m\u001b[0m\n",
      "\u001b[1;32m~\\AppData\\Roaming\\Python\\Python36\\site-packages\\paramiko\\client.py\u001b[0m in \u001b[0;36m_auth\u001b[1;34m(self, username, password, pkey, key_filenames, allow_agent, look_for_keys, gss_auth, gss_kex, gss_deleg_creds, gss_host, passphrase)\u001b[0m\n\u001b[0;32m    738\u001b[0m                     \u001b[1;31m# in ['password']\u001b[0m\u001b[1;33m\u001b[0m\u001b[1;33m\u001b[0m\u001b[1;33m\u001b[0m\u001b[0m\n\u001b[0;32m    739\u001b[0m                     allowed_types = set(\n\u001b[1;32m--> 740\u001b[1;33m                         \u001b[0mself\u001b[0m\u001b[1;33m.\u001b[0m\u001b[0m_transport\u001b[0m\u001b[1;33m.\u001b[0m\u001b[0mauth_publickey\u001b[0m\u001b[1;33m(\u001b[0m\u001b[0musername\u001b[0m\u001b[1;33m,\u001b[0m \u001b[0mkey\u001b[0m\u001b[1;33m)\u001b[0m\u001b[1;33m\u001b[0m\u001b[1;33m\u001b[0m\u001b[0m\n\u001b[0m\u001b[0;32m    741\u001b[0m                     )\n\u001b[0;32m    742\u001b[0m                     \u001b[0mtwo_factor\u001b[0m \u001b[1;33m=\u001b[0m \u001b[0mallowed_types\u001b[0m \u001b[1;33m&\u001b[0m \u001b[0mtwo_factor_types\u001b[0m\u001b[1;33m\u001b[0m\u001b[1;33m\u001b[0m\u001b[0m\n",
      "\u001b[1;32m~\\AppData\\Roaming\\Python\\Python36\\site-packages\\paramiko\\transport.py\u001b[0m in \u001b[0;36mauth_publickey\u001b[1;34m(self, username, key, event)\u001b[0m\n\u001b[0;32m   1578\u001b[0m             \u001b[1;31m# caller wants to wait for event themselves\u001b[0m\u001b[1;33m\u001b[0m\u001b[1;33m\u001b[0m\u001b[1;33m\u001b[0m\u001b[0m\n\u001b[0;32m   1579\u001b[0m             \u001b[1;32mreturn\u001b[0m \u001b[1;33m[\u001b[0m\u001b[1;33m]\u001b[0m\u001b[1;33m\u001b[0m\u001b[1;33m\u001b[0m\u001b[0m\n\u001b[1;32m-> 1580\u001b[1;33m         \u001b[1;32mreturn\u001b[0m \u001b[0mself\u001b[0m\u001b[1;33m.\u001b[0m\u001b[0mauth_handler\u001b[0m\u001b[1;33m.\u001b[0m\u001b[0mwait_for_response\u001b[0m\u001b[1;33m(\u001b[0m\u001b[0mmy_event\u001b[0m\u001b[1;33m)\u001b[0m\u001b[1;33m\u001b[0m\u001b[1;33m\u001b[0m\u001b[0m\n\u001b[0m\u001b[0;32m   1581\u001b[0m \u001b[1;33m\u001b[0m\u001b[0m\n\u001b[0;32m   1582\u001b[0m     \u001b[1;32mdef\u001b[0m \u001b[0mauth_interactive\u001b[0m\u001b[1;33m(\u001b[0m\u001b[0mself\u001b[0m\u001b[1;33m,\u001b[0m \u001b[0musername\u001b[0m\u001b[1;33m,\u001b[0m \u001b[0mhandler\u001b[0m\u001b[1;33m,\u001b[0m \u001b[0msubmethods\u001b[0m\u001b[1;33m=\u001b[0m\u001b[1;34m\"\"\u001b[0m\u001b[1;33m)\u001b[0m\u001b[1;33m:\u001b[0m\u001b[1;33m\u001b[0m\u001b[1;33m\u001b[0m\u001b[0m\n",
      "\u001b[1;32m~\\AppData\\Roaming\\Python\\Python36\\site-packages\\paramiko\\auth_handler.py\u001b[0m in \u001b[0;36mwait_for_response\u001b[1;34m(self, event)\u001b[0m\n\u001b[0;32m    248\u001b[0m             \u001b[1;32mif\u001b[0m \u001b[0missubclass\u001b[0m\u001b[1;33m(\u001b[0m\u001b[0me\u001b[0m\u001b[1;33m.\u001b[0m\u001b[0m__class__\u001b[0m\u001b[1;33m,\u001b[0m \u001b[0mPartialAuthentication\u001b[0m\u001b[1;33m)\u001b[0m\u001b[1;33m:\u001b[0m\u001b[1;33m\u001b[0m\u001b[1;33m\u001b[0m\u001b[0m\n\u001b[0;32m    249\u001b[0m                 \u001b[1;32mreturn\u001b[0m \u001b[0me\u001b[0m\u001b[1;33m.\u001b[0m\u001b[0mallowed_types\u001b[0m\u001b[1;33m\u001b[0m\u001b[1;33m\u001b[0m\u001b[0m\n\u001b[1;32m--> 250\u001b[1;33m             \u001b[1;32mraise\u001b[0m \u001b[0me\u001b[0m\u001b[1;33m\u001b[0m\u001b[1;33m\u001b[0m\u001b[0m\n\u001b[0m\u001b[0;32m    251\u001b[0m         \u001b[1;32mreturn\u001b[0m \u001b[1;33m[\u001b[0m\u001b[1;33m]\u001b[0m\u001b[1;33m\u001b[0m\u001b[1;33m\u001b[0m\u001b[0m\n\u001b[0;32m    252\u001b[0m \u001b[1;33m\u001b[0m\u001b[0m\n",
      "\u001b[1;31mAuthenticationException\u001b[0m: Authentication failed."
     ]
    }
   ],
   "source": [
    "ssh.connect(hostname = \"104.47.157.14\", username = \"madinsights\")"
   ]
  },
  {
   "cell_type": "code",
   "execution_count": 49,
   "metadata": {},
   "outputs": [],
   "source": [
    "a = ssh.exec_command(\"ls\")"
   ]
  },
  {
   "cell_type": "code",
   "execution_count": 52,
   "metadata": {},
   "outputs": [
    {
     "data": {
      "text/plain": [
       "['dags\\n',\n",
       " 'Desktop\\n',\n",
       " 'notebooks\\n',\n",
       " 'prefect_home\\n',\n",
       " 'prefect_source\\n',\n",
       " 'shiny_topic_maps\\n',\n",
       " 'Untitled.ipynb\\n']"
      ]
     },
     "execution_count": 52,
     "metadata": {},
     "output_type": "execute_result"
    }
   ],
   "source": [
    "a[1].readlines()"
   ]
  },
  {
   "cell_type": "code",
   "execution_count": 51,
   "metadata": {},
   "outputs": [
    {
     "ename": "TypeError",
     "evalue": "expected str, bytes or os.PathLike object, not ChannelFile",
     "output_type": "error",
     "traceback": [
      "\u001b[1;31m---------------------------------------------------------------------------\u001b[0m",
      "\u001b[1;31mTypeError\u001b[0m                                 Traceback (most recent call last)",
      "\u001b[1;32m<ipython-input-51-c0bb733b2a97>\u001b[0m in \u001b[0;36m<module>\u001b[1;34m\u001b[0m\n\u001b[1;32m----> 1\u001b[1;33m \u001b[1;32mwith\u001b[0m \u001b[0mopen\u001b[0m \u001b[1;33m(\u001b[0m\u001b[0ma\u001b[0m\u001b[1;33m[\u001b[0m\u001b[1;36m1\u001b[0m\u001b[1;33m]\u001b[0m\u001b[1;33m,\u001b[0m \u001b[1;34m'r'\u001b[0m\u001b[1;33m)\u001b[0m \u001b[1;32mas\u001b[0m \u001b[0mstdout\u001b[0m\u001b[1;33m:\u001b[0m\u001b[1;33m\u001b[0m\u001b[1;33m\u001b[0m\u001b[0m\n\u001b[0m\u001b[0;32m      2\u001b[0m     \u001b[0mprint\u001b[0m \u001b[1;33m(\u001b[0m\u001b[0mstdout\u001b[0m\u001b[1;33m.\u001b[0m\u001b[0mreadlines\u001b[0m\u001b[1;33m(\u001b[0m\u001b[1;33m)\u001b[0m\u001b[1;33m)\u001b[0m\u001b[1;33m\u001b[0m\u001b[1;33m\u001b[0m\u001b[0m\n",
      "\u001b[1;31mTypeError\u001b[0m: expected str, bytes or os.PathLike object, not ChannelFile"
     ]
    }
   ],
   "source": [
    "with open (a[1], 'r') as stdout:\n",
    "    print (stdout.readlines())"
   ]
  },
  {
   "cell_type": "code",
   "execution_count": null,
   "metadata": {},
   "outputs": [],
   "source": []
  },
  {
   "cell_type": "code",
   "execution_count": 1,
   "metadata": {},
   "outputs": [],
   "source": [
    "import git"
   ]
  },
  {
   "cell_type": "code",
   "execution_count": 2,
   "metadata": {},
   "outputs": [],
   "source": [
    "repo = git.Repo(\"./\", search_parent_directories=True)"
   ]
  },
  {
   "cell_type": "code",
   "execution_count": 3,
   "metadata": {},
   "outputs": [
    {
     "data": {
      "text/plain": [
       "<git.repo.base.Repo 'C:\\\\Users\\\\dfleetwood\\\\Documents\\\\prefect_test\\\\test_project\\\\.git'>"
      ]
     },
     "execution_count": 3,
     "metadata": {},
     "output_type": "execute_result"
    }
   ],
   "source": [
    "repo"
   ]
  },
  {
   "cell_type": "code",
   "execution_count": 6,
   "metadata": {},
   "outputs": [],
   "source": [
    "a = repo.active_branch"
   ]
  },
  {
   "cell_type": "code",
   "execution_count": 15,
   "metadata": {},
   "outputs": [],
   "source": [
    "commit = a.commit"
   ]
  },
  {
   "cell_type": "code",
   "execution_count": 20,
   "metadata": {},
   "outputs": [
    {
     "data": {
      "text/plain": [
       "'bb0247c616d56fc6c97ad4b869fd28bee24e8d70'"
      ]
     },
     "execution_count": 20,
     "metadata": {},
     "output_type": "execute_result"
    }
   ],
   "source": [
    "commit.hexsha"
   ]
  },
  {
   "cell_type": "code",
   "execution_count": 21,
   "metadata": {},
   "outputs": [
    {
     "data": {
      "text/plain": [
       "'run update\\n'"
      ]
     },
     "execution_count": 21,
     "metadata": {},
     "output_type": "execute_result"
    }
   ],
   "source": [
    "commit.message"
   ]
  },
  {
   "cell_type": "code",
   "execution_count": 42,
   "metadata": {},
   "outputs": [
    {
     "data": {
      "text/plain": [
       "[]"
      ]
     },
     "execution_count": 42,
     "metadata": {},
     "output_type": "execute_result"
    }
   ],
   "source": [
    "list (repo.iter_commits('master..origin/master'))"
   ]
  },
  {
   "cell_type": "code",
   "execution_count": 23,
   "metadata": {},
   "outputs": [],
   "source": [
    "stats = commit.stats"
   ]
  },
  {
   "cell_type": "code",
   "execution_count": 33,
   "metadata": {},
   "outputs": [],
   "source": [
    "remote = repo.remote()"
   ]
  },
  {
   "cell_type": "code",
   "execution_count": 37,
   "metadata": {},
   "outputs": [
    {
     "data": {
      "text/plain": [
       "[]"
      ]
     },
     "execution_count": 37,
     "metadata": {},
     "output_type": "execute_result"
    }
   ],
   "source": [
    "list (repo.iter_commits('master..origin/master'))"
   ]
  },
  {
   "cell_type": "code",
   "execution_count": 38,
   "metadata": {},
   "outputs": [
    {
     "ename": "SyntaxError",
     "evalue": "unexpected EOF while parsing (<ipython-input-38-4a28f353cd8c>, line 1)",
     "output_type": "error",
     "traceback": [
      "\u001b[1;36m  File \u001b[1;32m\"<ipython-input-38-4a28f353cd8c>\"\u001b[1;36m, line \u001b[1;32m1\u001b[0m\n\u001b[1;33m    list (repo.iter_commits('origin/master..master')\u001b[0m\n\u001b[1;37m                                                    ^\u001b[0m\n\u001b[1;31mSyntaxError\u001b[0m\u001b[1;31m:\u001b[0m unexpected EOF while parsing\n"
     ]
    }
   ],
   "source": [
    "list (repo.iter_commits('origin/master..master')"
   ]
  },
  {
   "cell_type": "code",
   "execution_count": 28,
   "metadata": {},
   "outputs": [],
   "source": [
    "active_commits = list (repo.iter_commits())"
   ]
  },
  {
   "cell_type": "code",
   "execution_count": 30,
   "metadata": {},
   "outputs": [
    {
     "data": {
      "text/plain": [
       "<git.Commit \"bb0247c616d56fc6c97ad4b869fd28bee24e8d70\">"
      ]
     },
     "execution_count": 30,
     "metadata": {},
     "output_type": "execute_result"
    }
   ],
   "source": [
    "active_commits[0]."
   ]
  },
  {
   "cell_type": "code",
   "execution_count": null,
   "metadata": {},
   "outputs": [],
   "source": []
  }
 ],
 "metadata": {
  "kernelspec": {
   "display_name": "prefect",
   "language": "python",
   "name": "prefect"
  },
  "language_info": {
   "codemirror_mode": {
    "name": "ipython",
    "version": 3
   },
   "file_extension": ".py",
   "mimetype": "text/x-python",
   "name": "python",
   "nbconvert_exporter": "python",
   "pygments_lexer": "ipython3",
   "version": "3.6.10"
  }
 },
 "nbformat": 4,
 "nbformat_minor": 2
}
